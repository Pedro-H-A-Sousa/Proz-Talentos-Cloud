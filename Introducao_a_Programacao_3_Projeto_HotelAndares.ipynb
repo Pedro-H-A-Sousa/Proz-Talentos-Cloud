{
  "nbformat": 4,
  "nbformat_minor": 0,
  "metadata": {
    "colab": {
      "provenance": [],
      "authorship_tag": "ABX9TyMtKt3FIYxkxwbKFvmECMMG",
      "include_colab_link": true
    },
    "kernelspec": {
      "name": "python3",
      "display_name": "Python 3"
    },
    "language_info": {
      "name": "python"
    }
  },
  "cells": [
    {
      "cell_type": "markdown",
      "metadata": {
        "id": "view-in-github",
        "colab_type": "text"
      },
      "source": [
        "<a href=\"https://colab.research.google.com/github/Pedro-H-A-Sousa/Proz-Talentos-Cloud/blob/main/Introducao_a_Programacao_3_Projeto_HotelAndares.ipynb\" target=\"_parent\"><img src=\"https://colab.research.google.com/assets/colab-badge.svg\" alt=\"Open In Colab\"/></a>"
      ]
    },
    {
      "cell_type": "code",
      "execution_count": 1,
      "metadata": {
        "id": "hkM4vz-CPvEH"
      },
      "outputs": [],
      "source": [
        "#Precisamos imprimir um número para cada andar de um hotel de 20 andares. Porém, o dono do hotel é supersticioso e optou por não ter um 13ro andar.\n",
        "\n",
        "#Escreva um código que imprima todos os números exceto o número 13.\n",
        "#Escreva mais um código que resolva o mesmo problema, mas dessa vez usando o laço de repetição 'while'.\n",
        "\n",
        "#Como desafio, imprima eles em ordem decrescente (20, 19, 18...)"
      ]
    },
    {
      "cell_type": "code",
      "source": [
        "for andar in range(20, 0, -1):\n",
        "    if andar != 13:\n",
        "        print(andar)"
      ],
      "metadata": {
        "colab": {
          "base_uri": "https://localhost:8080/"
        },
        "id": "XQCMvaBMBUBc",
        "outputId": "564ee8cb-ac82-4282-ee7d-bbdb4b6d8d45"
      },
      "execution_count": 2,
      "outputs": [
        {
          "output_type": "stream",
          "name": "stdout",
          "text": [
            "20\n",
            "19\n",
            "18\n",
            "17\n",
            "16\n",
            "15\n",
            "14\n",
            "12\n",
            "11\n",
            "10\n",
            "9\n",
            "8\n",
            "7\n",
            "6\n",
            "5\n",
            "4\n",
            "3\n",
            "2\n",
            "1\n"
          ]
        }
      ]
    },
    {
      "cell_type": "code",
      "source": [
        "andar = 20\n",
        "while andar >= 1:\n",
        "    if andar != 13:\n",
        "        print(andar)\n",
        "    andar = andar - 1"
      ],
      "metadata": {
        "colab": {
          "base_uri": "https://localhost:8080/"
        },
        "id": "xalPyp_GBUQK",
        "outputId": "34fc9172-8474-441f-a864-d89e40aed008"
      },
      "execution_count": 5,
      "outputs": [
        {
          "output_type": "stream",
          "name": "stdout",
          "text": [
            "20\n",
            "19\n",
            "18\n",
            "17\n",
            "16\n",
            "15\n",
            "14\n",
            "12\n",
            "11\n",
            "10\n",
            "9\n",
            "8\n",
            "7\n",
            "6\n",
            "5\n",
            "4\n",
            "3\n",
            "2\n",
            "1\n"
          ]
        }
      ]
    }
  ]
}