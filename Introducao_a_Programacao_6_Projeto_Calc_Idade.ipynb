{
  "nbformat": 4,
  "nbformat_minor": 0,
  "metadata": {
    "colab": {
      "provenance": [],
      "authorship_tag": "ABX9TyOCRgPP0QD7Ttxw9DoluqDG",
      "include_colab_link": true
    },
    "kernelspec": {
      "name": "python3",
      "display_name": "Python 3"
    },
    "language_info": {
      "name": "python"
    }
  },
  "cells": [
    {
      "cell_type": "markdown",
      "metadata": {
        "id": "view-in-github",
        "colab_type": "text"
      },
      "source": [
        "<a href=\"https://colab.research.google.com/github/Pedro-H-A-Sousa/Proz-Talentos-Cloud/blob/main/Introducao_a_Programacao_6_Projeto_Calc_Idade.ipynb\" target=\"_parent\"><img src=\"https://colab.research.google.com/assets/colab-badge.svg\" alt=\"Open In Colab\"/></a>"
      ]
    },
    {
      "cell_type": "code",
      "execution_count": null,
      "metadata": {
        "id": "hkM4vz-CPvEH"
      },
      "outputs": [],
      "source": [
        "#6º Projeto Introduçao a Programação\n",
        "#Instruções do projeto\n",
        "#Desenvolva um programa que recebe do usuário nome completo e ano de nascimento que seja entre 1922 e 2021.\n",
        "#A partir dessas informações, o sistema mostrará o nome do usuário e a idade que completou, ou completará, no ano atual (2022).\n",
        "#Caso o usuário não digite um número ou apareça um inválido no campo do ano, o sistema informará o erro e continuará perguntando até que um valor correto seja preenchido."
      ]
    },
    {
      "cell_type": "code",
      "source": [
        "def obter_ano_nascimento():\n",
        "    while True:\n",
        "        try:\n",
        "            ano_nascimento = int(input(\"Digite o ano de nascimento (1922-2021): \"))\n",
        "            if (ano_nascimento >=1922) and (ano_nascimento <= 2021):\n",
        "                return ano_nascimento\n",
        "            else:\n",
        "                print(\"Ano de nascimento fora do intervalo válido.\")\n",
        "        except ValueError:\n",
        "            print(\"Ano de nascimento inválido. Digite um número válido.\")\n",
        "\n",
        "nome = input(\"Digite seu nome completo: \")\n",
        "ano_nascimento = obter_ano_nascimento()\n",
        "idade = 2022 - ano_nascimento\n",
        "\n",
        "print(\"Nome: \",nome)\n",
        "print(\"Idade em 2022: \",idade,\" anos\")\n"
      ],
      "metadata": {
        "colab": {
          "base_uri": "https://localhost:8080/"
        },
        "id": "gaHpS4IHFN2f",
        "outputId": "8e111f38-db7f-4988-c77a-5d039bce60c0"
      },
      "execution_count": 3,
      "outputs": [
        {
          "output_type": "stream",
          "name": "stdout",
          "text": [
            "Digite seu nome completo: Pedro Henrique\n",
            "Digite o ano de nascimento (1922-2021): 1921\n",
            "Ano de nascimento fora do intervalo válido.\n",
            "Digite o ano de nascimento (1922-2021): 2022\n",
            "Ano de nascimento fora do intervalo válido.\n",
            "Digite o ano de nascimento (1922-2021): Nao sei\n",
            "Ano de nascimento inválido. Digite um número válido.\n",
            "Digite o ano de nascimento (1922-2021): 1996\n",
            "Nome:  Pedro Henrique\n",
            "Idade em 2022:  26  anos\n"
          ]
        }
      ]
    },
    {
      "cell_type": "code",
      "source": [],
      "metadata": {
        "id": "0WrfmBFmdCIW"
      },
      "execution_count": null,
      "outputs": []
    }
  ]
}