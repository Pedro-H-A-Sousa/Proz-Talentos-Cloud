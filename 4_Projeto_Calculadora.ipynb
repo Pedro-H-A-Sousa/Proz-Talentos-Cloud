{
  "nbformat": 4,
  "nbformat_minor": 0,
  "metadata": {
    "colab": {
      "provenance": [],
      "authorship_tag": "ABX9TyMK1guhBQi7gg6FATiYQnWZ",
      "include_colab_link": true
    },
    "kernelspec": {
      "name": "python3",
      "display_name": "Python 3"
    },
    "language_info": {
      "name": "python"
    }
  },
  "cells": [
    {
      "cell_type": "markdown",
      "metadata": {
        "id": "view-in-github",
        "colab_type": "text"
      },
      "source": [
        "<a href=\"https://colab.research.google.com/github/Pedro-H-A-Sousa/Proz-Talentos-Cloud/blob/main/4_Projeto_Calculadora.ipynb\" target=\"_parent\"><img src=\"https://colab.research.google.com/assets/colab-badge.svg\" alt=\"Open In Colab\"/></a>"
      ]
    },
    {
      "cell_type": "code",
      "execution_count": 6,
      "metadata": {
        "id": "hkM4vz-CPvEH"
      },
      "outputs": [],
      "source": [
        "#4º Projeto Introduçao a Programação\n",
        "#Instruções do projeto\n",
        "#Faça uma função calculadora de dois números com três parâmetros: os dois primeiros serão os números da operação e o terceiro\n",
        "#será a entrada que definirá a operação a ser executada. Considera a seguinte definição:\n",
        "#1. Soma\n",
        "#2. Subtração\n",
        "#3. Multiplicação\n",
        "#4. Divisão\n",
        "#Caso seja inserido um número de operação que não exista, o resultado deverá ser 0."
      ]
    },
    {
      "cell_type": "code",
      "source": [
        "def calculadora(num1, num2, operacao):\n",
        "    if operacao == 1:\n",
        "        return num1 + num2\n",
        "    elif operacao == 2:\n",
        "        return num1 - num2\n",
        "    elif operacao == 3:\n",
        "        return num1 * num2\n",
        "    elif operacao == 4:\n",
        "        return num1 / num2\n",
        "    else:\n",
        "        return 0\n",
        "\n",
        "num1 = int(input(\"Digite o primeiro número: \"))\n",
        "num2 = int(input(\"Digite o segundo número: \"))\n",
        "operacao = int(input(\"Escolha a operação (1 - Soma, 2 - Subtração, 3 - Multiplicação, 4 - Divisão): \"))\n",
        "\n",
        "resultado = calculadora(num1, num2, operacao)\n",
        "print(\"Resultado: \",resultado)"
      ],
      "metadata": {
        "colab": {
          "base_uri": "https://localhost:8080/"
        },
        "id": "gaHpS4IHFN2f",
        "outputId": "f6caf136-1e61-4ba8-ad54-52491b599e6d"
      },
      "execution_count": 8,
      "outputs": [
        {
          "output_type": "stream",
          "name": "stdout",
          "text": [
            "Digite o primeiro número: 5\n",
            "Digite o segundo número: 5\n",
            "Escolha a operação (1 - Soma, 2 - Subtração, 3 - Multiplicação, 4 - Divisão): 5\n",
            "Resultado:  0\n"
          ]
        }
      ]
    },
    {
      "cell_type": "code",
      "source": [],
      "metadata": {
        "id": "mpwrapUxlGgb"
      },
      "execution_count": null,
      "outputs": []
    }
  ]
}