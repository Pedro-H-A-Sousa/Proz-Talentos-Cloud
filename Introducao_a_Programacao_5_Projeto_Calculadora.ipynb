{
  "nbformat": 4,
  "nbformat_minor": 0,
  "metadata": {
    "colab": {
      "provenance": [],
      "authorship_tag": "ABX9TyMUQpljIgSJXVp5Soh0BsMQ",
      "include_colab_link": true
    },
    "kernelspec": {
      "name": "python3",
      "display_name": "Python 3"
    },
    "language_info": {
      "name": "python"
    }
  },
  "cells": [
    {
      "cell_type": "markdown",
      "metadata": {
        "id": "view-in-github",
        "colab_type": "text"
      },
      "source": [
        "<a href=\"https://colab.research.google.com/github/Pedro-H-A-Sousa/Proz-Talentos-Cloud/blob/main/Introducao_a_Programacao_5_Projeto_Calculadora.ipynb\" target=\"_parent\"><img src=\"https://colab.research.google.com/assets/colab-badge.svg\" alt=\"Open In Colab\"/></a>"
      ]
    },
    {
      "cell_type": "code",
      "execution_count": null,
      "metadata": {
        "id": "hkM4vz-CPvEH"
      },
      "outputs": [],
      "source": [
        "#5º Projeto Introduçao a Programação\n",
        "#Instruções do projeto\n",
        "#Faça uma função calculadora que os números e as operações serão feitas pelo usuário.\n",
        "#O código deve ficar rodando infinitamente até que o usuário escolha a opção de sair.\n",
        "#No início, o programa mostrará a seguinte lista de operações:\n",
        "#1: Soma\n",
        "#2: Subtração\n",
        "#3: Multiplicação\n",
        "#4: Divisão\n",
        "#0: Sair\n",
        "#Digite o número para a operação correspondente e caso o usuário introduza qualquer outro, o sistema\n",
        "#deve mostrar a mensagem “Essa opção não existe” e voltar ao menu de opções.\n",
        "#Após a seleção, o sistema deve pedir para o usuário inserir o primeiro e segundo valor, um de cada.\n",
        "#Depois precisa executar a operação e mostrar o resultado na tela. Quando o usuário escolher a opção “Sair”, o sistema irá parar.\n",
        "#É necessário que o sistema mostre as opções sempre que finalizar uma operação e mostrar o resultado."
      ]
    },
    {
      "cell_type": "code",
      "source": [
        "def soma(a, b):\n",
        "    return a + b\n",
        "def subtracao(a, b):\n",
        "    return a - b\n",
        "def multiplicacao(a, b):\n",
        "    return a * b\n",
        "def divisao(a, b):\n",
        "    return a / b\n",
        "\n",
        "contador = 0\n",
        "\n",
        "while contador == 0:\n",
        "    print(\"Escolha a operação (1 - Soma, 2 - Subtração, 3 - Multiplicação, 4 - Divisão e 0 - Para sair): \")\n",
        "    operacao = input(\"Digite o número para a operação correspondente: \")\n",
        "\n",
        "    if operacao == '0':\n",
        "        contador = 1\n",
        "    elif operacao in ('1', '2', '3', '4'):\n",
        "        num1 = int(input(\"Digite o primeiro valor: \"))\n",
        "        num2 = int(input(\"Digite o segundo valor: \"))\n",
        "\n",
        "        if operacao == '1':\n",
        "            resultado = soma(num1, num2)\n",
        "            print(\"Resultado da operação: \",resultado)\n",
        "        elif operacao == '2':\n",
        "            resultado = subtracao(num1, num2)\n",
        "            print(\"Resultado da operação: \",resultado)\n",
        "        elif operacao == '3':\n",
        "            resultado = multiplicacao(num1, num2)\n",
        "            print(\"Resultado da operação: \",resultado)\n",
        "        elif operacao == '4':\n",
        "            resultado = divisao(num1, num2)\n",
        "            print(\"Resultado da operação: \",resultado)\n",
        "    else:\n",
        "        print(\"Essa opção não existe\")"
      ],
      "metadata": {
        "colab": {
          "base_uri": "https://localhost:8080/"
        },
        "id": "gaHpS4IHFN2f",
        "outputId": "4fd16f37-c233-4eac-eeb2-25bee6f042f9"
      },
      "execution_count": 1,
      "outputs": [
        {
          "name": "stdout",
          "output_type": "stream",
          "text": [
            "Escolha a operação (1 - Soma, 2 - Subtração, 3 - Multiplicação, 4 - Divisão e 0 - Para sair): \n",
            "Digite o número para a operação correspondente: 5\n",
            "Essa opção não existe\n",
            "Escolha a operação (1 - Soma, 2 - Subtração, 3 - Multiplicação, 4 - Divisão e 0 - Para sair): \n",
            "Digite o número para a operação correspondente: 4\n",
            "Digite o primeiro valor: 5\n",
            "Digite o segundo valor: 10\n",
            "Resultado da operação:  0.5\n",
            "Escolha a operação (1 - Soma, 2 - Subtração, 3 - Multiplicação, 4 - Divisão e 0 - Para sair): \n",
            "Digite o número para a operação correspondente: 0\n"
          ]
        }
      ]
    }
  ]
}